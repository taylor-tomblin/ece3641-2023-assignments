{
 "cells": [
  {
   "cell_type": "markdown",
   "metadata": {},
   "source": [
    "# 7.1 - Forward Kinematics\n",
    "p.255 - 278"
   ]
  },
  {
   "cell_type": "markdown",
   "metadata": {},
   "source": [
    "A 6 degrees of freedom (DoF) general-purpose industrial manipulator, SCARA robot with 4 DoF (typically used for electronic assmebly), and a gantry robot where the arm moves along an overhead rail are serial-link manipulators and comprise a series of rigid links connected by actuated joints.\n",
    "\n",
    "> A serial-link manipulator is the most common industrial robot. They are designed as a series of links connected by motor-actuated joints that extend from a base to an end-effector. Often they have an anthropomorphic arm structure described as having a \"shoulder\", an \"elbow\", and a \"wrist\".\n",
    "\n",
    "Each joint controls the relative pose of the two links it connects, and the pose of the end effector is a function of all the joints. A series of links and joints is a kinematic chain or a rigid-body chain. Most industrial robots have 6 joints but increasingly we are seeing robots with 7 joints which enables greater dexterity and a larger usable workspace.\n",
    "\n",
    "> **In mechanism theory, all these joints are collectively known a lower pairs and involve contact between two surfaces. Higher pairs involve contact between a point and a surface or a line and a surface.**\n",
    "\n",
    "In robotics, the most common type of joint is revolute, wher eone link rotates relative to another, about an axis fixed to both. Less common is a prismatic joint, also known as a sliding or telescopic joint, wehre one link slides relative to another along an axis fisxed to both. Many other types of joint are possible such as screw joints (1 DoF), cylindrical joints (2 DoF, one revolute and one prismatic) or spherical joints (3 DoF) but they are rare in robotics and will not be discussed here.\n",
    "\n",
    "We are interested in understanding the relationship between the joints, which we control, and the pose of the end effector which does the work. This is the forward kinematics, a mapping from joint coordinates, or robot configuration, to end-effector pose."
   ]
  },
  {
   "cell_type": "markdown",
   "metadata": {},
   "source": [
    "## 7.1.1 - Forward Kinematics from a Pose Graph"
   ]
  },
  {
   "cell_type": "markdown",
   "metadata": {},
   "source": [
    "In this section, we apply our knowlegde of pose graphs to solve the forward kinematics problem for robots that move in 2D and 3D."
   ]
  },
  {
   "cell_type": "markdown",
   "metadata": {},
   "source": [
    "### 7.1.1.1 - 2-Dimensional (Planar) Robotic Arms"
   ]
  },
  {
   "cell_type": "markdown",
   "metadata": {},
   "source": [
    "We will start simply wiht a single kinematic chain operating in the plane. Consider the following example, which comprises one revolute joint and one link and is somewhat like the hand of a clock:\n"
   ]
  },
  {
   "cell_type": "markdown",
   "metadata": {},
   "source": [
    "### 7.1.1.2 - 3-Dimensional Robotic Arms"
   ]
  },
  {
   "cell_type": "markdown",
   "metadata": {},
   "source": [
    "## 7.1.2 - Forward Kinematics as a Chain of Robot Links"
   ]
  },
  {
   "cell_type": "markdown",
   "metadata": {},
   "source": [
    "### 7.1.2.1 - 2-Dimensional (Planar) Case"
   ]
  },
  {
   "cell_type": "markdown",
   "metadata": {},
   "source": [
    "### 7.1.2.2 - 3-Dimensional Case"
   ]
  },
  {
   "cell_type": "markdown",
   "metadata": {},
   "source": [
    "### 7.1.2.3 - Tools and Bases"
   ]
  },
  {
   "cell_type": "markdown",
   "metadata": {},
   "source": [
    "## 7.1.3 - Branched Robots"
   ]
  },
  {
   "cell_type": "markdown",
   "metadata": {},
   "source": [
    "### 7.1.3.1 - 2D (Planar) Branched Robots"
   ]
  },
  {
   "cell_type": "markdown",
   "metadata": {},
   "source": [
    "## 7.1.4 - Unified Robot Description Format (URDF)"
   ]
  },
  {
   "cell_type": "markdown",
   "metadata": {},
   "source": [
    "## 7.1.5 - Denavit-Hartenberg Parameters"
   ]
  }
 ],
 "metadata": {
  "kernelspec": {
   "display_name": "rvc3",
   "language": "python",
   "name": "python3"
  },
  "language_info": {
   "name": "python",
   "version": "3.10.13"
  }
 },
 "nbformat": 4,
 "nbformat_minor": 2
}
