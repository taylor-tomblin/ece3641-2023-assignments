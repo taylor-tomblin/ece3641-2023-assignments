{
 "cells": [
  {
   "cell_type": "markdown",
   "metadata": {},
   "source": [
    "# Python Basics: Sections 12, 13, and 15"
   ]
  },
  {
   "cell_type": "markdown",
   "metadata": {},
   "source": [
    "## Section 12: Working with Files"
   ]
  },
  {
   "cell_type": "markdown",
   "metadata": {},
   "source": [
    "### Read from a Text File"
   ]
  },
  {
   "cell_type": "markdown",
   "metadata": {},
   "source": [
    "#### TL;DR"
   ]
  },
  {
   "cell_type": "markdown",
   "metadata": {},
   "source": [
    "The following shows how to read all text from the readme.txt tile into a string:"
   ]
  },
  {
   "cell_type": "code",
   "execution_count": null,
   "metadata": {},
   "outputs": [],
   "source": [
    "with open('readme.txt') as f:\n",
    "    lines = f.readlines()"
   ]
  },
  {
   "cell_type": "markdown",
   "metadata": {},
   "source": [
    "#### Steps for Reading a Text File in Python"
   ]
  },
  {
   "cell_type": "markdown",
   "metadata": {},
   "source": [
    "To read a text file, follow these steps:\n",
    "* Open a text file for reading by using the *open()* function\n",
    "* Read text from the text file using the file *read()*, *readline()*, or *readlines()* method of the file object\n",
    "* Close the file using the file *close()* method"
   ]
  },
  {
   "cell_type": "markdown",
   "metadata": {},
   "source": [
    "##### open() function"
   ]
  },
  {
   "cell_type": "code",
   "execution_count": null,
   "metadata": {},
   "outputs": [],
   "source": [
    "# Syntax: open(path_to_file, mode)"
   ]
  },
  {
   "cell_type": "markdown",
   "metadata": {},
   "source": [
    "For example, if the file *readme.txt* is stored in the *sample* folder as the program, you need to specify the path to the file as *c:/sample/readme.txt*\n",
    "\n",
    "The *mode* is an optional parameter. It’s a string that specifies the mode in which you want to open the file. The following table shows available modes for opening a text file:\n",
    "\n",
    "|Mode|Description|\n",
    "|:----|----:|\n",
    "|'r'|Open for text file for reading text|\n",
    "|'w'|Open a text file for writing text|\n",
    "|'a'|Open a text file for appending text|"
   ]
  },
  {
   "cell_type": "code",
   "execution_count": null,
   "metadata": {},
   "outputs": [],
   "source": [
    "# Ex. Opening a file that is stored in the same folder as the program.\n",
    "f = open('the-zen-of-python.txt','r')"
   ]
  },
  {
   "cell_type": "markdown",
   "metadata": {},
   "source": [
    "##### Reading text methods"
   ]
  },
  {
   "cell_type": "markdown",
   "metadata": {},
   "source": [
    "The file object provides you with three methods for reading text from a text file:\n",
    "* *read(size)* – read some contents of a file based on the optional size and return the contents as a string. If you omit the size, the *read()* method reads from where it left off till the end of the file. If the end of a file has been reached, the *read()* method returns an empty string.\n",
    "* *readline()* – read a single line from a text file and return the line as a string. If the end of a file has been reached, the *readline()* returns an empty string.\n",
    "* *readlines()* – read all the lines of the text file into a list of strings. This method is useful if you have a small file and you want to manipulate the whole text of that file."
   ]
  },
  {
   "cell_type": "markdown",
   "metadata": {},
   "source": [
    "##### close() method"
   ]
  },
  {
   "cell_type": "markdown",
   "metadata": {},
   "source": [
    "The file that you open will remain open until you close it using the *close()* method.\n",
    "\n",
    "It’s important to close the file that is no longer in use for the following reasons:\n",
    "* First, when you open a file in your script, the file system usually locks it down so no other programs or scripts can use it until you close it.\n",
    "* Second, your file system has a limited number of file descriptors that you can create before it runs out of them. Although this number might be high, it’s possible to open a lot of files and deplete your file system resources.\n",
    "* Third, leaving many files open may lead to race conditions which occur when multiple processes attempt to modify one file at the same time and can cause all kinds of unexpected behaviors."
   ]
  },
  {
   "cell_type": "code",
   "execution_count": null,
   "metadata": {},
   "outputs": [],
   "source": [
    "f.close()\n",
    "\n",
    "# To close automatically:\n",
    "# with open(path_to_file) as f:\n",
    "#     contents = f.readlines()"
   ]
  },
  {
   "cell_type": "markdown",
   "metadata": {},
   "source": [
    "#### Reading a Text File Examples"
   ]
  },
  {
   "cell_type": "code",
   "execution_count": null,
   "metadata": {},
   "outputs": [],
   "source": [
    "# read() method\n",
    "with open('the-zen-of-python.txt') as f:\n",
    "    contents = f.read()\n",
    "    print(contents)\n",
    "# Output:\n",
    "# Beautiful is better than ugly.\n",
    "# Explicit is better than implicit.\n",
    "# Simple is better than complex.\n",
    "# ...\n",
    "\n",
    "# readlines() method to read the text tile and return as a string\n",
    "with open('the-zen-of-python.txt') as f:\n",
    "    [print(line) for line in f.readlines()]\n",
    "# Output:\n",
    "# Beautiful is better than ugly.\n",
    "#\n",
    "# Explicit is better than implicit.\n",
    "#\n",
    "# Simple is better than complex.\n",
    "#\n",
    "# Complex is better than complicated.\n",
    "# ...\n",
    "\n",
    "# strip() method, which removes the blank line\n",
    "with open('the-zen-of-python.txt') as f:\n",
    "    [print(line.strip()) for line in f.readlines()]\n",
    "\n",
    "# readline() to read the text file line by line\n",
    "with open('the-zen-of-python.txt') as f:\n",
    "    while True:\n",
    "        line = f.readline()\n",
    "        if not line:\n",
    "            break\n",
    "        print(line.strip())\n",
    "# Output:\n",
    "# Explicit is better than implicit.\n",
    "# Complex is better than complicated.\n",
    "# Flat is better than nested.\n",
    "# ..."
   ]
  },
  {
   "cell_type": "markdown",
   "metadata": {},
   "source": [
    "#### A More Concise Way to Read a Text File Line by Line"
   ]
  },
  {
   "cell_type": "code",
   "execution_count": null,
   "metadata": {},
   "outputs": [],
   "source": [
    "with open('the-zen-of-python.txt') as f:\n",
    "    for line in f:\n",
    "        print(line.strip()) "
   ]
  },
  {
   "cell_type": "markdown",
   "metadata": {},
   "source": [
    "#### Read UFT-8 Text Files"
   ]
  },
  {
   "cell_type": "markdown",
   "metadata": {},
   "source": [
    "The code in the previous examples works fine with ASCII text files. However, if you’re dealing with other languages such as Japanese, Chinese, and Korean, the text file is not a simple ASCII text file. And it’s likely a UTF-8 file that uses more than just the standard ASCII text characters.\n",
    "\n",
    "To open a UTF-8 text file, you need to pass the *encoding='utf-8'* to the *open()* function to instruct it to expect UTF-8 characters from the file.\n",
    "\n",
    "For the demonstration, you’ll use the following *quotes.txt* file that contains some quotes in Japanese."
   ]
  },
  {
   "cell_type": "code",
   "execution_count": null,
   "metadata": {},
   "outputs": [],
   "source": [
    "with open('quotes.txt', encoding='utf8') as f:\n",
    "    for line in f:\n",
    "        print(line.strip())"
   ]
  },
  {
   "cell_type": "markdown",
   "metadata": {},
   "source": [
    "### Write to a Text File"
   ]
  },
  {
   "cell_type": "markdown",
   "metadata": {},
   "source": [
    "#### Steps for Writing to Text Files"
   ]
  },
  {
   "cell_type": "markdown",
   "metadata": {},
   "source": [
    "To write to a text file in Python, follow these steps:\n",
    "* Open the text file for writing (or append) using the *open()* function\n",
    "* Write to the text file using the *write()* or *writelines()* method\n",
    "* Close the file using the *close()* method\n",
    "\n",
    "The *open()* function accepts many paramters. We'll focus on the first two parameters:\n",
    "* The *file* paramter specifies the path to the text file that you want to open for writing\n",
    "* The *mode* paramter specifies the mode for which you want to open the text file\n",
    "\n",
    "|Mode|Description|\n",
    "|:----|----:|\n",
    "|'w'|Open a text file for writing. If the file exists, the function will truncate all the contents as soon as you open it. If the file doesn't exist, the function creates a new file.|\n",
    "|'a'|Open a text file for appending text. If the file exists, the fucntion append contents at the end of the file.|\n",
    "|'+'|Open a text file for updating (both reading & writing)|\n",
    "\n",
    "The *open()* function returns a file object that has two useful methods for writing text to the file: *write()* and *writelines()*\n",
    "* The *write()* method writes a string to a text file\n",
    "* The *writelines()* method write a list of strings to a file at once4\n",
    "\n",
    "The *writelines()* method accepts an iterable object, not just a list, so you can pass a tuple of strings, a set of strings, etc., to the *writelines()* method.\n",
    "\n",
    "To write a new line to a text file, you need to manually add a new line character:"
   ]
  },
  {
   "cell_type": "code",
   "execution_count": null,
   "metadata": {},
   "outputs": [],
   "source": [
    "f.write('\\n')\n",
    "f.writelines('\\n')"
   ]
  },
  {
   "cell_type": "markdown",
   "metadata": {},
   "source": [
    "#### Writing Text File Examples"
   ]
  },
  {
   "cell_type": "code",
   "execution_count": null,
   "metadata": {},
   "outputs": [],
   "source": [
    "# Shows how to use the write() function to write a list of text file:\n",
    "lines = ['Readme', 'How to write text files in Python']\n",
    "with open('readme.txt', 'w') as f:\n",
    "    for line in lines:\n",
    "        f.write(line)\n",
    "        f.write('\\n')\n",
    "\n",
    "# Write a list of text\n",
    "lines = ['Readme', 'How to write text files in Python']\n",
    "with open('readme.txt', 'w') as f:\n",
    "    f.writelines(lines)\n",
    "\n",
    "# If you treat each element of the list as a line, you need to concatenate it with the newline character:\n",
    "lines = ['Readme', 'How to write text files in Python']\n",
    "with open('readme.txt', 'w') as f:\n",
    "    f.write('\\n'.join(lines))"
   ]
  },
  {
   "cell_type": "markdown",
   "metadata": {},
   "source": [
    "#### Appending Text Files"
   ]
  },
  {
   "cell_type": "markdown",
   "metadata": {},
   "source": [
    "To append to a text file, you need to open the etext file for appending mode."
   ]
  },
  {
   "cell_type": "code",
   "execution_count": null,
   "metadata": {},
   "outputs": [],
   "source": [
    "more_lines = ['', 'Append text files', 'The End']\n",
    "\n",
    "with open('readme.txt', 'a') as f:\n",
    "    f.write('\\n'.join(more_lines))"
   ]
  },
  {
   "cell_type": "markdown",
   "metadata": {},
   "source": [
    "#### Writing to a UTF-8 Text File"
   ]
  },
  {
   "cell_type": "markdown",
   "metadata": {},
   "source": [
    "If you write UTF-8 characters to a text file using the code from the previous example, you get an error:\n",
    "\n",
    "**UnicodeEncodeError: 'charmap' codec can't encode characters in position 0-44: character maps to <*undefined>**\n",
    "\n",
    "To open a file and write UTF-8 characters to a file, you need to pass the *encoding='utf-8'* parameter to the *open()* function."
   ]
  },
  {
   "cell_type": "code",
   "execution_count": null,
   "metadata": {},
   "outputs": [],
   "source": [
    "quote = '成功を収める人とは人が投げてきたレンガでしっかりした基盤を築くことができる人のことである。'\n",
    "\n",
    "with open('quotes.txt', 'w', encoding='utf-8') as f:\n",
    "    f.write(quote)"
   ]
  },
  {
   "cell_type": "markdown",
   "metadata": {},
   "source": [
    "### Create a New Text File"
   ]
  },
  {
   "cell_type": "markdown",
   "metadata": {},
   "source": [
    "#### Using the open() Function to Create a New Text File"
   ]
  },
  {
   "cell_type": "markdown",
   "metadata": {},
   "source": [
    "To create a new text file, use the *open()* function."
   ]
  },
  {
   "cell_type": "code",
   "execution_count": null,
   "metadata": {},
   "outputs": [],
   "source": [
    "# Syntax: f = open(path_to_file, mode)"
   ]
  },
  {
   "cell_type": "markdown",
   "metadata": {},
   "source": [
    "For creating a new text file, use one of the following modes:\n",
    "* *'w'* -- open a file for writing. If the file doesn't exist, the *open()* function creates a new file. Otherwise, it'll overwrite the contents of the existing file.\n",
    "* *'x'* -- open a file for exclusive creation. If the file exists, the *open()* function raises an error (*FileExistsError*). Otherwise, it'll create the text file."
   ]
  },
  {
   "cell_type": "code",
   "execution_count": null,
   "metadata": {},
   "outputs": [],
   "source": [
    "with open('readme.txt', 'w') as f:\n",
    "    f.write('Create a new text file!')"
   ]
  },
  {
   "cell_type": "markdown",
   "metadata": {},
   "source": [
    "If you want to create a file in a specified directory, you need to ensure that the *docs* directory exists before creating the file. Otherwise, you'll get an exception."
   ]
  },
  {
   "cell_type": "code",
   "execution_count": null,
   "metadata": {},
   "outputs": [],
   "source": [
    "with open('docs/readme.txt', 'w') as f:\n",
    "    f.write('Create a new text file!')\n",
    "\n",
    "# Outputs Error:\n",
    "# FileNotFoundError: [Errno 2] No such file or directory: 'docs/readme.txt'"
   ]
  },
  {
   "cell_type": "markdown",
   "metadata": {},
   "source": [
    "In this example, Python **raises an exception** because the *docs* directory doesn't esits. Therefore, it could not create the *readme.txt* file in that directory. To fix the issue, you need to create the *docs* directory first and then create the *readme.txt* file in that folder."
   ]
  },
  {
   "cell_type": "code",
   "execution_count": null,
   "metadata": {},
   "outputs": [],
   "source": [
    "try:\n",
    "    with open('docs/readme.txt', 'w') as f:\n",
    "        f.write('Create a new text file!')\n",
    "except FileNotFoundError:\n",
    "    print(\"The 'docs' directory does not exist\")\n",
    "\n",
    "# Output:\n",
    "# The 'docs' directory does not exist"
   ]
  },
  {
   "cell_type": "markdown",
   "metadata": {},
   "source": [
    "If you don't want to create a new text file in case it already exists, you can use the *'x'* mode when calling the *open()* function:"
   ]
  },
  {
   "cell_type": "code",
   "execution_count": null,
   "metadata": {},
   "outputs": [],
   "source": [
    "with open('readme.txt', 'x') as f:\n",
    "    f.write('Create a new text file!')"
   ]
  },
  {
   "cell_type": "markdown",
   "metadata": {},
   "source": [
    "### Check if a File Exists"
   ]
  },
  {
   "cell_type": "markdown",
   "metadata": {},
   "source": [
    "When processing files, you'll often wnat to check if a file exists before doing something else with it such as **reading from the file** or **writing to it**. To do it, you can use the *exists()* function from the *os.path* module or *is_file()* method from the *Path* class in the *pathlib* module."
   ]
  },
  {
   "cell_type": "markdown",
   "metadata": {},
   "source": [
    "#### os.path.exists() function"
   ]
  },
  {
   "cell_type": "code",
   "execution_count": null,
   "metadata": {},
   "outputs": [],
   "source": [
    "from os.path import exists\n",
    "\n",
    "file_exists = exists(path_to_file)"
   ]
  },
  {
   "cell_type": "markdown",
   "metadata": {},
   "source": [
    "#### Path.is_file() method"
   ]
  },
  {
   "cell_type": "code",
   "execution_count": null,
   "metadata": {},
   "outputs": [],
   "source": [
    "from pathlib import Path\n",
    "\n",
    "path = Path(path_to_file)\n",
    "\n",
    "path.is_file()"
   ]
  },
  {
   "cell_type": "markdown",
   "metadata": {},
   "source": [
    "#### Using os.path.exists() function to check if a file exists"
   ]
  },
  {
   "cell_type": "markdown",
   "metadata": {},
   "source": [
    "To check if a file exists, you pass the file path to the *exists()* function from the *os.path* standard library\n",
    "* First, import the *os.path* standard library\n",
    "* Second, call the *exists()* function\n",
    "\n",
    "If the file exists, the *exists()* function returns *True*. Otherwise, it returns *False*. If the file is in the same folder as the program, the *path_to_file* is just simply the file name. However, it's not the case, you need to pass the full file path of the file.\n",
    "\n",
    "Even if you run the program on Windows, you should use the forward-slash (*/*) to separate the path. It'll work across Windows, macOS, and Linux.\n",
    "\n",
    "The following example uses the *exists()* function to check if the *readme.txt* file exists in the same folder as the program:"
   ]
  },
  {
   "cell_type": "code",
   "execution_count": null,
   "metadata": {},
   "outputs": [],
   "source": [
    "import os.path\n",
    "\n",
    "file_exists = os.path.exists('readme.txt')\n",
    "\n",
    "print(file_exists)"
   ]
  },
  {
   "cell_type": "markdown",
   "metadata": {},
   "source": [
    "To make the call to the *exists()* function shorter and more obvious, you can import that function and rename it to *file_exists()* function like so:"
   ]
  },
  {
   "cell_type": "code",
   "execution_count": null,
   "metadata": {},
   "outputs": [],
   "source": [
    "from os.path import exists as file_exists\n",
    "\n",
    "file_exists('readme.txt')"
   ]
  },
  {
   "cell_type": "markdown",
   "metadata": {},
   "source": [
    "#### Using the pathlib module to check if a file exists"
   ]
  },
  {
   "cell_type": "markdown",
   "metadata": {},
   "source": [
    "The *pathlib* module allows you to manipulate files and folders using the object-oriented approach.\n",
    "* First, import the *Path* class from the *pathlib* module\n",
    "* Then instantiate a new instance of the *Path* class and initialize it witht he file path that you want to check for existence\n",
    "* Finally, check if the file exists using the *is_file()* method\n",
    "\n",
    "If the file doesn't exist, the *is_file()* method returns *False*. Otherwise, it returns *True*. The following example shows how to sue the *Path* class from the *pathlib* module to check if the *readme.txt* file exists in the same folder of the program"
   ]
  },
  {
   "cell_type": "code",
   "execution_count": null,
   "metadata": {},
   "outputs": [],
   "source": [
    "from pathlib import Path\n",
    "\n",
    "path_to_file = 'readme.txt'\n",
    "path = Path(path_to_file)\n",
    "\n",
    "if path.is_file():\n",
    "    print(f'The file {path_to_file} exists')\n",
    "else:\n",
    "    print(f'The file {path_to_file} does not exists')\n",
    "\n",
    "# Output:\n",
    "# The file readme.txt exists"
   ]
  },
  {
   "cell_type": "markdown",
   "metadata": {},
   "source": [
    "### Read CSV Files"
   ]
  },
  {
   "cell_type": "markdown",
   "metadata": {},
   "source": [
    "#### What is a CSV File"
   ]
  },
  {
   "cell_type": "markdown",
   "metadata": {},
   "source": [
    "CSV stands for comma-separated values. A CSV file is a delimited text file that uses a comma to separate values. A CSV file consists of one or more lines. Each line is a data record. And each data record consists of one or more values separated by commas. In addition, all the lines of a CSV file have the same number of vlaues. Typically, you use a CSV file to store tabular data in plain text. The CSV file format is quite popular and supported by many software applications such as Microsoft Excel and Google Spreadsheet.\n",
    "\n",
    "|name|area|country_code2|country_code3|\n",
    "|:---|:---:|:---:|---:|\n",
    "|Afghanistan|652090|AF|AFG|\n",
    "|Albania|28748|AL|ALB|\n",
    "|Algeria|2381741|DZ|DZA|\n",
    "|American Samoa|199|AS|ASM|\n",
    "|Andorra|468|AD|AND|\n",
    "|Angola|1246700|AO|AGO|\n",
    "|Anguilla|96|AI|AIA|\n",
    "|etc.|etc.|etc.|etc.|"
   ]
  },
  {
   "cell_type": "markdown",
   "metadata": {},
   "source": [
    "#### Reading a csv file in Python"
   ]
  },
  {
   "cell_type": "markdown",
   "metadata": {},
   "source": [
    "To read a CSV file in Python, you follow these steps:\n",
    "* First, import the csv module\n",
    "* Second, open the CSV file using the built-in open() function\n",
    "* Note: If the CSV contains UTF-8 characters, you need to specify the encoding\n",
    "* Third, pass the file object (*f*) to the *reader()* function of the *csv* module. The *reader()* function returns a csv reader object"
   ]
  },
  {
   "cell_type": "code",
   "execution_count": null,
   "metadata": {},
   "outputs": [],
   "source": [
    "import csv\n",
    "\n",
    "f = open('path/to/csv_file')\n",
    "\n",
    "f = open('path/to/csv_file', encoding='UTF8')\n",
    "\n",
    "csv_reader = csv.reader(f)"
   ]
  },
  {
   "cell_type": "markdown",
   "metadata": {},
   "source": [
    "The *csv_reader* is an **iterable** object of liens from the CSV file. Therefore, you can iterate over the lines of the CSV file using a *for* loop"
   ]
  },
  {
   "cell_type": "code",
   "execution_count": null,
   "metadata": {},
   "outputs": [],
   "source": [
    "for line in csv_reader:\n",
    "    print(line)"
   ]
  },
  {
   "cell_type": "markdown",
   "metadata": {},
   "source": [
    "Each line is a list of values. To access each value, you use the square bracket notation *[]*. The first value has an index of 0. The second value has an index of 1, and so on. Finally, always close the file once you're no longer access it by calling the *close()* mthod of the file object. It'll be easier to use the *with* statement so that you don't need to explicitly call the *close()* method."
   ]
  },
  {
   "cell_type": "code",
   "execution_count": null,
   "metadata": {},
   "outputs": [],
   "source": [
    "line[0]\n",
    "\n",
    "f.close()"
   ]
  },
  {
   "cell_type": "markdown",
   "metadata": {},
   "source": [
    "The following illustrates all the steps for reading a CSV file:"
   ]
  },
  {
   "cell_type": "code",
   "execution_count": null,
   "metadata": {},
   "outputs": [],
   "source": [
    "import csv\n",
    "\n",
    "with open('path/to/csv_file', 'r') as f:\n",
    "    csv_reader = csv.reader(f)\n",
    "    for line in csv_reader:\n",
    "        # process each line\n",
    "        print(line)"
   ]
  },
  {
   "cell_type": "markdown",
   "metadata": {},
   "source": [
    "#### Reading a CSV file examples"
   ]
  },
  {
   "cell_type": "markdown",
   "metadata": {},
   "source": [
    "We'll use the *country.csv* file that contains country infomration including name, area, 2-letter country code, 3-letter counry code:\n",
    "\n",
    "The following shows how to read the *country.csv* file and display each line to the screen:"
   ]
  },
  {
   "cell_type": "code",
   "execution_count": null,
   "metadata": {},
   "outputs": [],
   "source": [
    "import csv\n",
    "\n",
    "with open('country.csv', encoding = \"utf8\") as f:\n",
    "    csv_reader = csv.reader(f)\n",
    "    for line in csv_reader:\n",
    "        print(line)\n",
    "\n",
    "# Output:\n",
    "# ['name', 'area', 'country_code2', 'country_code3']\n",
    "# ['Afghanistan', '652090.00', 'AF', 'AFG']\n",
    "# ['Albania', '28748.00', 'AL', 'ALB']\n",
    "# ['Algeria', '2381741.00', 'DZ', 'DZA']\n",
    "# ['American Samoa', '199.00', 'AS', 'ASM']\n",
    "# ..."
   ]
  },
  {
   "cell_type": "markdown",
   "metadata": {},
   "source": [
    "The *country.csv* has the first line as the header. To separate the header and data, you use the *enumerate()* function to get the index of each line:"
   ]
  },
  {
   "cell_type": "code",
   "execution_count": null,
   "metadata": {},
   "outputs": [],
   "source": [
    "import csv\n",
    "\n",
    "with open('country.csv', encoding=\"utf8\") as f:\n",
    "    csv_reader = csv.reader(f)\n",
    "    for line_no, line in enumerate(csv_reader, 1):\n",
    "        if line_no == 1:\n",
    "            print('Header:')\n",
    "            print(line)  # header\n",
    "            print('Data:')\n",
    "        else:\n",
    "            print(line)  # data"
   ]
  },
  {
   "cell_type": "markdown",
   "metadata": {},
   "source": [
    "In this example, we use the *enumerate()* function and specify the index of the first line as 1.\n",
    "\n",
    "Inside the loop, if the *line_no* is 1, the line is the header. Otherwise, it’s a data line.\n",
    "\n",
    "Another way to skip the header is to use the *next()* function. The *next()* function forwards to the reader to the next line."
   ]
  },
  {
   "cell_type": "code",
   "execution_count": null,
   "metadata": {},
   "outputs": [],
   "source": [
    "import csv\n",
    "\n",
    "with open('country.csv', encoding=\"utf8\") as f:\n",
    "    csv_reader = csv.reader(f)\n",
    "\n",
    "    # skip the first row\n",
    "    next(csv_reader)\n",
    "\n",
    "    # show the data\n",
    "    for line in csv_reader:\n",
    "        print(line)"
   ]
  },
  {
   "cell_type": "markdown",
   "metadata": {},
   "source": [
    "The following reads the *country.csv* file and calculate the total areas of all countries:"
   ]
  },
  {
   "cell_type": "code",
   "execution_count": null,
   "metadata": {},
   "outputs": [],
   "source": [
    "import csv\n",
    "\n",
    "total_area = 0\n",
    "\n",
    "# calculate the total area of all countries\n",
    "\n",
    "with open('country.csv', encoding=\"utf8\") as f:\n",
    "    csv_reader = csv.reader(f)\n",
    "\n",
    "    # skip the header\n",
    "    next(csv_reader)\n",
    "\n",
    "    # calculate total\n",
    "    for line in csv_reader:\n",
    "        total_area += float(line[1])\n",
    "\n",
    "print(total_area)\n",
    "\n",
    "# Output:\n",
    "# 148956306.9"
   ]
  },
  {
   "cell_type": "markdown",
   "metadata": {},
   "source": [
    "#### Reading a CSV file using the DictReader class"
   ]
  },
  {
   "cell_type": "markdown",
   "metadata": {},
   "source": [
    "When you use the csv.reader() function, you can access values of the CSV file using the bracket notation such as line[0], line[1], and so on. However, using the csv.reader() function has two main limitations:\n",
    "\n",
    "* First, the way to access the values from the CSV file is not so obvious. For example, the line[0] implicitly means the country name. It would be more expressive if you can access the country name like line['country_name'].\n",
    "* Second, when the order of columns from the CSV file is changed or new columns are added, you need to modify the code to get the right data.\n",
    "This is where the DictReader class comes into play. The DictReader class also comes from the csv module.\n",
    "\n",
    "The DictReader class allows you to create an object like a regular CSV reader. But it maps the information of each line to a dictionary (dict) whose keys are specified by the values of the first line.\n",
    "\n",
    "By using the DictReader class, you can access values in the country.csv file like line['name'], line['area'], line['country_code2'], and line['country_code3'].\n",
    "\n",
    "The following example uses the DictReader class to read the country.csv file:"
   ]
  },
  {
   "cell_type": "code",
   "execution_count": null,
   "metadata": {},
   "outputs": [],
   "source": [
    "import csv\n",
    "\n",
    "with open('country.csv', encoding=\"utf8\") as f:\n",
    "    csv_reader = csv.DictReader(f)\n",
    "    # skip the header\n",
    "    next(csv_reader)\n",
    "    # show the data\n",
    "    for line in csv_reader:\n",
    "        print(f\"The area of {line['name']} is {line['area']} km2\")\n",
    "\n",
    "# Output:\n",
    "# The area of Afghanistan is 652090.00 km2\n",
    "# The area of Albania is 28748.00 km2\n",
    "# The area of Algeria is 2381741.00 km2        \n",
    "# ..."
   ]
  },
  {
   "cell_type": "markdown",
   "metadata": {},
   "source": [
    "If you want to have different field names other than the ones specified in the first line, you can explicitly specify them by passing a list of field names to the *DictReader()* constructor like this:"
   ]
  },
  {
   "cell_type": "code",
   "execution_count": null,
   "metadata": {},
   "outputs": [],
   "source": [
    "import csv\n",
    "\n",
    "fieldnames = ['country_name', 'area', 'code2', 'code3']\n",
    "\n",
    "with open('country.csv', encoding=\"utf8\") as f:\n",
    "    csv_reader = csv.DictReader(f, fieldnames)\n",
    "    next(csv_reader)\n",
    "    for line in csv_reader:\n",
    "        print(f\"The area of {line['country_name']} is {line['area']} km2\")"
   ]
  },
  {
   "cell_type": "markdown",
   "metadata": {},
   "source": [
    "### Write CSV Files"
   ]
  },
  {
   "cell_type": "markdown",
   "metadata": {},
   "source": [
    "#### Steps for Writing a CSV File"
   ]
  },
  {
   "cell_type": "markdown",
   "metadata": {},
   "source": [
    "To write data into a CSV file, you follow these steps:\n",
    "\n",
    "* First, open the CSV file for writing (w mode) by using the open() function.\n",
    "* Second, create a CSV writer object by calling the writer() function of the csv module.\n",
    "* Third, write data to CSV file by calling the writerow() or writerows() method of the CSV writer object.\n",
    "* Finally, close the file once you complete writing data to it."
   ]
  },
  {
   "cell_type": "code",
   "execution_count": null,
   "metadata": {},
   "outputs": [],
   "source": [
    "import csv\n",
    "\n",
    "# open the file in the write mode\n",
    "f = open('path/to/csv_file', 'w')\n",
    "\n",
    "# create the csv writer\n",
    "writer = csv.writer(f)\n",
    "\n",
    "# write a row to the csv file\n",
    "writer.writerow(row)\n",
    "\n",
    "# close the file\n",
    "f.close()"
   ]
  },
  {
   "cell_type": "markdown",
   "metadata": {},
   "source": [
    "It’ll be shorter if you use the with statement so that you don’t need to call the *close()* method to explicitly close the file:"
   ]
  },
  {
   "cell_type": "code",
   "execution_count": null,
   "metadata": {},
   "outputs": [],
   "source": [
    "import csv\n",
    "\n",
    "# open the file in the write mode\n",
    "with open('path/to/csv_file', 'w') as f:\n",
    "    # create the csv writer\n",
    "    writer = csv.writer(f)\n",
    "\n",
    "    # write a row to the csv file\n",
    "    writer.writerow(row)"
   ]
  },
  {
   "cell_type": "markdown",
   "metadata": {},
   "source": [
    "If you’re dealing with non-ASCII characters, you need to specify the character encoding in the open() function.\n",
    "\n",
    "The following illustrates how to write UTF-8 characters to a CSV file:"
   ]
  },
  {
   "cell_type": "code",
   "execution_count": null,
   "metadata": {},
   "outputs": [],
   "source": [
    "import csv\n",
    "\n",
    "# open the file in the write mode\n",
    "with open('path/to/csv_file', 'w', encoding='UTF8') as f:\n",
    "    # create the csv writer\n",
    "    writer = csv.writer(f)\n",
    "\n",
    "    # write a row to the csv file\n",
    "    writer.writerow(row)"
   ]
  },
  {
   "cell_type": "markdown",
   "metadata": {},
   "source": [
    "#### Writing to CSV Files Example"
   ]
  },
  {
   "cell_type": "code",
   "execution_count": null,
   "metadata": {},
   "outputs": [],
   "source": [
    "import csv  \n",
    "\n",
    "header = ['name', 'area', 'country_code2', 'country_code3']\n",
    "data = ['Afghanistan', 652090, 'AF', 'AFG']\n",
    "\n",
    "with open('countries.csv', 'w', encoding='UTF8') as f:\n",
    "    writer = csv.writer(f)\n",
    "\n",
    "    # write the header\n",
    "    writer.writerow(header)\n",
    "\n",
    "    # write the data\n",
    "    writer.writerow(data)"
   ]
  },
  {
   "cell_type": "markdown",
   "metadata": {},
   "source": [
    "If you open the *countries.csv*, you’ll see one issue that the file contents have an additional blank line between two subsequent rows:\n",
    "\n",
    "name, area, country_code2, country_code3\n",
    "\n",
    "Afghanistan,652090, AF, AFG\n",
    "\n",
    "To remove the blank line, you pass the keyword argument *newline=''* to the *open()* function as follows:"
   ]
  },
  {
   "cell_type": "code",
   "execution_count": null,
   "metadata": {},
   "outputs": [],
   "source": [
    "import csv\n",
    "\n",
    "header = ['name', 'area', 'country_code2', 'country_code3']\n",
    "data = ['Afghanistan', 652090, 'AF', 'AFG']\n",
    "\n",
    "\n",
    "with open('countries.csv', 'w', encoding='UTF8', newline='') as f:\n",
    "    writer = csv.writer(f)\n",
    "\n",
    "    # write the header\n",
    "    writer.writerow(header)\n",
    "\n",
    "    # write the data\n",
    "    writer.writerow(data)\n",
    "\n",
    "# Output:\n",
    "# name, area, country_code2, country_code3\n",
    "# Afghanistan,652090, AF, AFG"
   ]
  },
  {
   "cell_type": "markdown",
   "metadata": {},
   "source": [
    "#### Writing multiple rows to CSV files"
   ]
  },
  {
   "cell_type": "markdown",
   "metadata": {},
   "source": [
    "To write multiple rows to a CSV file at once, you use the *writerows()* method of the CSV writer object.\n",
    "\n",
    "The following uses the *writerows()* method to write multiple rows into the *countries.csv* file:"
   ]
  },
  {
   "cell_type": "code",
   "execution_count": null,
   "metadata": {},
   "outputs": [],
   "source": [
    "import csv\n",
    "\n",
    "header = ['name', 'area', 'country_code2', 'country_code3']\n",
    "data = [\n",
    "    ['Albania', 28748, 'AL', 'ALB'],\n",
    "    ['Algeria', 2381741, 'DZ', 'DZA'],\n",
    "    ['American Samoa', 199, 'AS', 'ASM'],\n",
    "    ['Andorra', 468, 'AD', 'AND'],\n",
    "    ['Angola', 1246700, 'AO', 'AGO']\n",
    "]\n",
    "\n",
    "with open('countries.csv', 'w', encoding='UTF8', newline='') as f:\n",
    "    writer = csv.writer(f)\n",
    "\n",
    "    # write the header\n",
    "    writer.writerow(header)\n",
    "\n",
    "    # write multiple rows\n",
    "    writer.writerows(data)"
   ]
  },
  {
   "cell_type": "markdown",
   "metadata": {},
   "source": [
    "#### Writing to CSV files using the DictWriter class"
   ]
  },
  {
   "cell_type": "markdown",
   "metadata": {},
   "source": [
    "If each row of the CSV file is a dictionary, you can use the *DictWriter* class of the csv module to write the dictionary to the CSV file.\n",
    "\n",
    "The example illustrates how to use the DictWriter class to write data to a CSV file:"
   ]
  },
  {
   "cell_type": "code",
   "execution_count": null,
   "metadata": {},
   "outputs": [],
   "source": [
    "import csv\n",
    "\n",
    "# csv header\n",
    "fieldnames = ['name', 'area', 'country_code2', 'country_code3']\n",
    "\n",
    "# csv data\n",
    "rows = [\n",
    "    {'name': 'Albania',\n",
    "    'area': 28748,\n",
    "    'country_code2': 'AL',\n",
    "    'country_code3': 'ALB'},\n",
    "    {'name': 'Algeria',\n",
    "    'area': 2381741,\n",
    "    'country_code2': 'DZ',\n",
    "    'country_code3': 'DZA'},\n",
    "    {'name': 'American Samoa',\n",
    "    'area': 199,\n",
    "    'country_code2': 'AS',\n",
    "    'country_code3': 'ASM'}\n",
    "]\n",
    "\n",
    "with open('countries.csv', 'w', encoding='UTF8', newline='') as f:\n",
    "    writer = csv.DictWriter(f, fieldnames=fieldnames)\n",
    "    writer.writeheader()\n",
    "    writer.writerows(rows)"
   ]
  },
  {
   "cell_type": "markdown",
   "metadata": {},
   "source": [
    "How it works.\n",
    "* First, define variables that hold the field names and data rows of the CSV file.\n",
    "* Next, open the CSV file for writing by calling the open() function.\n",
    "* Then, create a new instance of the DictWriter class by passing the file object (f) and fieldnames argument to it.\n",
    "* After that, write the header for the CSV file by calling the writeheader() method.\n",
    "* Finally, write data rows to the CSV file using the writerows() method."
   ]
  },
  {
   "cell_type": "markdown",
   "metadata": {},
   "source": [
    "### Rename a File"
   ]
  },
  {
   "cell_type": "markdown",
   "metadata": {},
   "source": [
    "To rename a file, you use the *os.rename()* function. If the src file does not exist, the *os.rename()* function raises a *FileNotFound* error. Similarly, if the *dst* already exists, the *os.rename()* function issues a *FileExistsError* error.\n",
    "\n",
    "For example, the following uses the os.rename() function to rename the file readme.txt to notes.txt:"
   ]
  },
  {
   "cell_type": "code",
   "execution_count": null,
   "metadata": {},
   "outputs": [],
   "source": [
    "import os\n",
    "\n",
    "os.rename('readme.txt', 'notes.txt')"
   ]
  },
  {
   "cell_type": "markdown",
   "metadata": {},
   "source": [
    "To avoid an error if the *readme.txt* doesn’t exist and/or the *notes.txt* file already exists, you can use the *try...except* statement:"
   ]
  },
  {
   "cell_type": "code",
   "execution_count": null,
   "metadata": {},
   "outputs": [],
   "source": [
    "import os\n",
    "\n",
    "try:\n",
    "    os.rename('readme.txt', 'notes.txt')\n",
    "except FileNotFoundError as e:\n",
    "    print(e)\n",
    "except FileExistsError as e:\n",
    "    print(e)\n",
    "\n",
    "# Output shows file does not exist:\n",
    "# [WinError 2] The system cannot find the file specified: 'readme.txt' -> 'notes.txt'\n",
    "\n",
    "# Output shows file already exists:\n",
    "# [WinError 183] Cannot create a file when that file already exists: 'readme.txt' -> 'notes.txt'"
   ]
  },
  {
   "cell_type": "markdown",
   "metadata": {},
   "source": [
    "### Delete a File"
   ]
  },
  {
   "cell_type": "markdown",
   "metadata": {},
   "source": [
    "To delete a file, you use the *remove()* function of the os built-in module. For example, the following uses the *os.remove()* function to delete the readme.txt file. If the readme.txt file doesn't exist, the *os.remove()* function will issue an error:"
   ]
  },
  {
   "cell_type": "code",
   "execution_count": null,
   "metadata": {},
   "outputs": [],
   "source": [
    "import os\n",
    "\n",
    "os.remove('readme.txt')\n",
    "\n",
    "# Output:\n",
    "# Error: FileNotFoundError: [WinError 2] The system cannot find the file specified: 'readme.txt'"
   ]
  },
  {
   "cell_type": "markdown",
   "metadata": {},
   "source": [
    "To avoid the error, you can check the file exists before deleting it or use the *try...except* statement to catch teh exception if the file doesn't exist:"
   ]
  },
  {
   "cell_type": "code",
   "execution_count": null,
   "metadata": {},
   "outputs": [],
   "source": [
    "# check if file exists\n",
    "import os\n",
    "\n",
    "filename = 'readme.txt'\n",
    "if os.path.exists(filename):\n",
    "    os.remove(filename)\n",
    "\n",
    "# try...except statement\n",
    "import os\n",
    "\n",
    "try:\n",
    "    os.remove('readme.txt')\n",
    "except FileNotFoundError as e:\n",
    "    print(e)"
   ]
  },
  {
   "cell_type": "markdown",
   "metadata": {},
   "source": [
    "## Section 13: Working Directories"
   ]
  },
  {
   "cell_type": "markdown",
   "metadata": {},
   "source": [
    "### Working with Directories"
   ]
  },
  {
   "cell_type": "markdown",
   "metadata": {},
   "source": [
    "#### Get the current working directory"
   ]
  },
  {
   "cell_type": "markdown",
   "metadata": {},
   "source": [
    "The current working directory is the directory where the Python script is running. To get the current working directory, you use the *os.getcwd()*. To change the curretn working directory, you use the function *os.chdir()*."
   ]
  },
  {
   "cell_type": "code",
   "execution_count": null,
   "metadata": {},
   "outputs": [],
   "source": [
    "# get current directory\n",
    "import os\n",
    "\n",
    "\n",
    "cwd = os.getcwd()\n",
    "print(cwd)\n",
    "\n",
    "\n",
    "# change directory\n",
    "import os\n",
    "\n",
    "\n",
    "os.chdir('/script')\n",
    "cwd = os.getcwd()\n",
    "print(cwd)"
   ]
  },
  {
   "cell_type": "markdown",
   "metadata": {},
   "source": [
    "#### Join and split a path"
   ]
  },
  {
   "cell_type": "markdown",
   "metadata": {},
   "source": [
    "To make a program work across platforms including Windows, Linux, and macOS, you need to use platform-independent file and directory paths.Python provides you with a submodule os.path that contains several useful functions and constants to join and split paths.\n",
    "\n",
    "The *join()* function joins path components together and returns a path with the corresponding path separator. For example, it uses backslash (\\\\) on Windows and forward slash (/) on macOS or Linux.\n",
    "\n",
    "The *split()* function splits a path into components without a path separator. Here’s an example of using *join()* and *split()* functions:"
   ]
  },
  {
   "cell_type": "code",
   "execution_count": null,
   "metadata": {},
   "outputs": [],
   "source": [
    "import os\n",
    "\n",
    "fp = os.path.join('temp', 'python')\n",
    "print(fp)  # temp\\python (on Windows)\n",
    "\n",
    "pc = os.path.split(fp)\n",
    "print(pc)  # ('temp', 'python')\n"
   ]
  },
  {
   "cell_type": "markdown",
   "metadata": {},
   "source": [
    "#### Test if a path is a directory"
   ]
  },
  {
   "cell_type": "markdown",
   "metadata": {},
   "source": [
    "To check if a path exists and is a directory, you can use the functions *os.path.exists()* and *os.path.isdir()* functions. For example:"
   ]
  },
  {
   "cell_type": "code",
   "execution_count": null,
   "metadata": {},
   "outputs": [],
   "source": [
    "import os\n",
    "\n",
    "dir = os.path.join(\"C:\\\\\", \"temp\")\n",
    "print(dir)\n",
    "\n",
    "if os.path.exists(dir) or os.path.isdir(dir):\n",
    "    print(f'The {dir} is a directory')"
   ]
  },
  {
   "cell_type": "markdown",
   "metadata": {},
   "source": [
    "#### Create a directory"
   ]
  },
  {
   "cell_type": "markdown",
   "metadata": {},
   "source": [
    "To create a new directory, you use *os.mkdir()* function. And you should always check if a directory exists first before creating a new directory.\n",
    "\n",
    "The following example creates a new directory called python under the *c:\\temp* directory."
   ]
  },
  {
   "cell_type": "code",
   "execution_count": null,
   "metadata": {},
   "outputs": [],
   "source": [
    "import os\n",
    "\n",
    "dir = os.path.join(\"C:\\\\\", \"temp\", \"python\")\n",
    "if not os.path.exists(dir):\n",
    "    os.mkdir(dir)"
   ]
  },
  {
   "cell_type": "markdown",
   "metadata": {},
   "source": [
    "#### Rename a directory"
   ]
  },
  {
   "cell_type": "markdown",
   "metadata": {},
   "source": [
    "To rename the directory, you use the *os.rename()* function:"
   ]
  },
  {
   "cell_type": "code",
   "execution_count": null,
   "metadata": {},
   "outputs": [],
   "source": [
    "import os\n",
    "\n",
    "oldpath = os.path.join(\"C:\\\\\", \"temp\", \"python\")\n",
    "newpath = os.path.join(\"C:\\\\\", \"temp\", \"python3\")\n",
    "\n",
    "if os.path.exists(oldpath) and not os.path.exists(newpath):\n",
    "    os.rename(oldpath, newpath)\n",
    "    print(\"'{0}' was renamed to '{1}'\".format(oldpath, newpath))\n"
   ]
  },
  {
   "cell_type": "markdown",
   "metadata": {},
   "source": [
    "#### Delete a directory"
   ]
  },
  {
   "cell_type": "markdown",
   "metadata": {},
   "source": [
    "To delete a directory, you use the *os.rmdir()* function as follows:"
   ]
  },
  {
   "cell_type": "code",
   "execution_count": null,
   "metadata": {},
   "outputs": [],
   "source": [
    "import os\n",
    "\n",
    "dir = os.path.join(\"C:\\\\\",\"temp\",\"python\")\n",
    "if os.path.exists(dir):\n",
    "    os.rmdir(dir)\n",
    "    print(dir + ' is removed.')"
   ]
  },
  {
   "cell_type": "markdown",
   "metadata": {},
   "source": [
    "#### Traverse a directory recursively"
   ]
  },
  {
   "cell_type": "markdown",
   "metadata": {},
   "source": [
    "The *os.walk()* function allows you to traverse a directory recursively. The *os.walk()* function returns the root directory, the sub-directories, and files.\n",
    "\n",
    "The following example shows how to print all files and directories in the *c:\\temp* directory:"
   ]
  },
  {
   "cell_type": "code",
   "execution_count": null,
   "metadata": {},
   "outputs": [],
   "source": [
    "import os\n",
    "\n",
    "path = \"c:\\\\temp\"\n",
    "for root, dirs, files in os.walk(path):\n",
    "    print(\"{0} has {1} files\".format(root, len(files)))"
   ]
  },
  {
   "cell_type": "markdown",
   "metadata": {},
   "source": [
    "### List Files in a Directory"
   ]
  },
  {
   "cell_type": "markdown",
   "metadata": {},
   "source": [
    "Sometimes, you may want to list all files from a directory for processing. For example, you might want to find all images of a directory and resize each of them. To list all files in a directory, you can use the *os.walk()* function.\n",
    "\n",
    "The *os.walk()* function generates file names in a directory by walking the tree either top-down or bottom-up. The *os.walk()* function yields a tuple with three fields (dirpath, dirnames, and filenames) for each directory in the directory tree.\n",
    "\n",
    "Note that the *os.walk()* function examines the whole directory tree. Therefore, you can use it to get all files from all directories and their subdirectories of a root directory."
   ]
  },
  {
   "cell_type": "markdown",
   "metadata": {},
   "source": [
    "#### Python list file example"
   ]
  },
  {
   "cell_type": "markdown",
   "metadata": {},
   "source": [
    "Suppose you have a folder *D:\\web* with the following directories and files:"
   ]
  },
  {
   "cell_type": "code",
   "execution_count": null,
   "metadata": {},
   "outputs": [],
   "source": [
    "# D:\\web\n",
    "# ├── assets\n",
    "# |  ├── css\n",
    "# |  |  └── style.css\n",
    "# |  └── js\n",
    "# |     └── app.js\n",
    "# ├── blog\n",
    "# |  ├── read-file.html\n",
    "# |  └── write-file.html\n",
    "# ├── about.html\n",
    "# ├── contact.html\n",
    "# └── index.html"
   ]
  },
  {
   "cell_type": "markdown",
   "metadata": {},
   "source": [
    "The following example shows how to use the *os.walk()* function to list all HTML files from the *D:\\web* directory:"
   ]
  },
  {
   "cell_type": "code",
   "execution_count": null,
   "metadata": {},
   "outputs": [],
   "source": [
    "import os\n",
    "\n",
    "\n",
    "path = 'D:\\\\web'\n",
    "\n",
    "html_files = []\n",
    "\n",
    "for dirpath, dirnames, filenames in os.walk(path):\n",
    "    for filename in filenames:\n",
    "        if filename.endswith('.html'):\n",
    "            html_files.append(os.path.join(dirpath, filename))\n",
    "\n",
    "for html_file in html_files:\n",
    "    print(html_file)\n",
    "\n",
    "\n",
    "# Output:\n",
    "# D:\\web\\about.html\n",
    "# D:\\web\\contact.html\n",
    "# D:\\web\\index.html\n",
    "# D:\\web\\blog\\read-file.html\n",
    "# D:\\web\\blog\\write-file.html"
   ]
  },
  {
   "cell_type": "markdown",
   "metadata": {},
   "source": [
    "How it works:\n",
    "* First, initialize a list to store the path to HTML files\n",
    "* Second, call *os.walk()* function to examine directories of the *D:\\web* folder\n",
    "* Note: The dirpath stores the directory and filenames store files in that directory.\n",
    "* Third, loop over the filenames and add them to the *html_files* list if their extensions are *.html*\n",
    "* Note: The *os.path.join()* returns the full path of the filename by joining the dirpath with the filename.\n",
    "* Finally, print output the filenames in the *html_files* list"
   ]
  },
  {
   "cell_type": "code",
   "execution_count": null,
   "metadata": {},
   "outputs": [],
   "source": [
    "html_files = []\n",
    "\n",
    "# ...\n",
    "for filename in filenames:\n",
    "        if filename.endswith('.html'):\n",
    "            html_files.append(os.path.join(dirpath, filename))\n",
    "\n",
    "for html_file in html_files:\n",
    "    print(html_file)"
   ]
  },
  {
   "cell_type": "markdown",
   "metadata": {},
   "source": [
    "#### Defining a reusable list files funciton"
   ]
  },
  {
   "cell_type": "markdown",
   "metadata": {},
   "source": [
    "By using the *os.walk()* function, we can define a reusable *list_files()* function like this:"
   ]
  },
  {
   "cell_type": "code",
   "execution_count": null,
   "metadata": {},
   "outputs": [],
   "source": [
    "import os\n",
    "\n",
    "\n",
    "def list_files(path, extentions=None):\n",
    "    \"\"\" List all files in a directory specified by path\n",
    "    Args:\n",
    "        path - the root directory path\n",
    "        extensions - a iterator of file extensions to include, pass None to get all files.\n",
    "    Returns:\n",
    "        A list of files specified by extensions\n",
    "    \"\"\"\n",
    "    filepaths = []\n",
    "    for root, _, files in os.walk(path):\n",
    "        for file in files:\n",
    "            if extentions is None:\n",
    "                filepaths.append(os.path.join(root, file))\n",
    "            else:\n",
    "                for ext in extentions:\n",
    "                    if file.endswith(ext):\n",
    "                        filepaths.append(os.path.join(root, file))\n",
    "\n",
    "    return filepaths\n",
    "\n",
    "\n",
    "if __name__ == '__main__':\n",
    "    filepaths = list_files(r'D:\\web', ('.html', '.css'))\n",
    "    for filepath in filepaths:\n",
    "        print(filepath)\n",
    "\n",
    "\n",
    "# Output:\n",
    "# D:\\web\\about.html\n",
    "# D:\\web\\contact.html\n",
    "# D:\\web\\index.html\n",
    "# D:\\web\\assets\\css\\style.css\n",
    "# D:\\web\\blog\\read-file.html\n",
    "# D:\\web\\blog\\write-file.html"
   ]
  },
  {
   "cell_type": "markdown",
   "metadata": {},
   "source": [
    "#### Make list files function more efficient"
   ]
  },
  {
   "cell_type": "markdown",
   "metadata": {},
   "source": [
    "If the number of files is small, the *list_files()* function works fine. However, when the number of files is large, returning a large list of files is not memory efficient.\n",
    "\n",
    "To resolve this, you can use a **generator** to yield each file at a time instead of returning a list:"
   ]
  },
  {
   "cell_type": "code",
   "execution_count": null,
   "metadata": {},
   "outputs": [],
   "source": [
    "import os\n",
    "\n",
    "\n",
    "def list_files(path, extentions=None):\n",
    "    \"\"\" List all files in a directory specified by path\n",
    "    Args:\n",
    "        path - the root directory path\n",
    "        extensions - a iterator of file extensions to include, pass None to get all files.\n",
    "    Returns:\n",
    "        A list of files specified by extensions\n",
    "    \"\"\"\n",
    "    for root, _, files in os.walk(path):\n",
    "        for file in files:\n",
    "            if extentions is None:\n",
    "                yield os.path.join(root, file)\n",
    "            else:\n",
    "                for ext in extentions:\n",
    "                    if file.endswith(ext):\n",
    "                        yield os.path.join(root, file)\n",
    "\n",
    "\n",
    "if __name__ == '__main__':\n",
    "    filepaths = list_files(r'D:\\web', ('.html', '.css'))\n",
    "    for filepath in filepaths:\n",
    "        print(filepath)"
   ]
  },
  {
   "cell_type": "markdown",
   "metadata": {},
   "source": [
    "## Section 15: Strings"
   ]
  },
  {
   "cell_type": "markdown",
   "metadata": {},
   "source": [
    "### F-Strings"
   ]
  },
  {
   "cell_type": "markdown",
   "metadata": {},
   "source": [
    "#### Introduction to the Python F-strings"
   ]
  },
  {
   "cell_type": "markdown",
   "metadata": {},
   "source": [
    "Python 3.6 introduced the f-strings that allow you to format text strings faster and more elegant. The f-strings provide a way to embed **variables** and expressions inside a string literal using a clearer syntax than the *format()* method."
   ]
  },
  {
   "cell_type": "code",
   "execution_count": null,
   "metadata": {},
   "outputs": [],
   "source": [
    "name = 'John'\n",
    "s = f'Hello, {name}!'\n",
    "print(s)\n",
    "\n",
    "\n",
    "# Output:\n",
    "# Hello, John!"
   ]
  },
  {
   "cell_type": "markdown",
   "metadata": {},
   "source": [
    "How it works.\n",
    "* First, define a variable with the value 'John'.\n",
    "* Then, place the name variable inside the curly braces {} in the literal string. Note that you need to prefix the string with the letter f to indicate that it is an f-string. It’s also valid if you use the letter in uppercase (F).\n",
    "* Third, print out the string s.\n",
    "\n",
    "It’s important to note that Python evaluates the expressions in f-string at runtime. It replaces the expressions inside an f-string with their values."
   ]
  },
  {
   "cell_type": "markdown",
   "metadata": {},
   "source": [
    "#### Python f-string examples"
   ]
  },
  {
   "cell_type": "code",
   "execution_count": null,
   "metadata": {},
   "outputs": [],
   "source": [
    "# upper() method\n",
    "name = 'John'\n",
    "s = F'Hello, {name.upper()}!'\n",
    "print(s)\n",
    "\n",
    "# Output: Hello, JOHN!\n",
    "\n",
    "\n",
    "# multiple curly braces inside an f-string\n",
    "first_name = 'John'\n",
    "last_name = 'Doe'\n",
    "s = F'Hello, {first_name} {last_name}!'\n",
    "print(s)\n",
    "\n",
    "# Output: Hello, John Doe!\n",
    "\n",
    "\n",
    "# join()\n",
    "first_name = 'John'\n",
    "last_name = 'Doe'\n",
    "s = F'Hello, {\" \".join((first_name, last_name))}!'\n",
    "\n",
    "print(s)\n",
    "\n",
    "# Output: Hello, John Doe!"
   ]
  },
  {
   "cell_type": "markdown",
   "metadata": {},
   "source": [
    "#### Multiline f-strings"
   ]
  },
  {
   "cell_type": "code",
   "execution_count": null,
   "metadata": {},
   "outputs": [],
   "source": [
    "name = 'John'\n",
    "website = 'PythonTutorial.net'\n",
    "\n",
    "message = (\n",
    "    f'Hello {name}. '\n",
    "    f\"You're learning Python at {website}.\" \n",
    ")\n",
    "\n",
    "print(message)\n",
    "\n",
    "\n",
    "# spread\n",
    "name = 'John'\n",
    "website = 'PythonTutorial.net'\n",
    "\n",
    "message = f'Hello {name}. ' \\\n",
    "          f\"You're learning Python at {website}.\" \n",
    "\n",
    "print(message)"
   ]
  },
  {
   "cell_type": "markdown",
   "metadata": {},
   "source": [
    "#### Curly braces"
   ]
  },
  {
   "cell_type": "code",
   "execution_count": null,
   "metadata": {},
   "outputs": [],
   "source": [
    "s = f'{{1+2}}'\n",
    "print(s)\n",
    "\n",
    "# Output: {1+2}\n",
    "\n",
    "\n",
    "s = f'{{{1+2}}}'\n",
    "print(s)\n",
    "\n",
    "# same output as above\n",
    "\n",
    "\n",
    "s = f'{{{{1+2}}}}'\n",
    "print(s)\n",
    "\n",
    "# Output: {{1+2}}"
   ]
  },
  {
   "cell_type": "markdown",
   "metadata": {},
   "source": [
    "#### The evaluation order of expressions in Python f-strings"
   ]
  },
  {
   "cell_type": "code",
   "execution_count": null,
   "metadata": {},
   "outputs": [],
   "source": [
    "def inc(numbers, value):\n",
    "    numbers[0] += value\n",
    "    return numbers[0]\n",
    "\n",
    "numbers = [0]\n",
    "\n",
    "s = f'{inc(numbers,1)},{inc(numbers,2)}'\n",
    "print(s)\n",
    "\n",
    "# Output: 1, 3\n",
    "\n",
    "inc(numbers,1)"
   ]
  },
  {
   "cell_type": "markdown",
   "metadata": {},
   "source": [
    "#### Format numbers using f-strings"
   ]
  },
  {
   "cell_type": "code",
   "execution_count": null,
   "metadata": {},
   "outputs": [],
   "source": [
    "# hex\n",
    "number = 16\n",
    "s = f'{number:x}'\n",
    "print(s)  # 10\n",
    "\n",
    "\n",
    "# sci notation\n",
    "number = 0.01\n",
    "s = f'{number:e}'\n",
    "print(s)  # 1.000000e-02\n",
    "\n",
    "\n",
    "# f-string\n",
    "number = 200\n",
    "s = f'{number: 06}'\n",
    "print(s)  # 00200\n",
    "\n",
    "\n",
    "# format f-string\n",
    "number = 9.98567\n",
    "s = f'{number: .2f}'\n",
    "print(s)  # 9.99"
   ]
  },
  {
   "cell_type": "markdown",
   "metadata": {},
   "source": [
    "### Raw Strings"
   ]
  },
  {
   "cell_type": "code",
   "execution_count": null,
   "metadata": {},
   "outputs": [],
   "source": [
    "s = '\\n'\n",
    "raw_string = repr(s)[1:-1]\n",
    "print(raw_string)"
   ]
  },
  {
   "cell_type": "markdown",
   "metadata": {},
   "source": [
    "### Backslash"
   ]
  },
  {
   "cell_type": "code",
   "execution_count": null,
   "metadata": {},
   "outputs": [],
   "source": [
    "colors = ['red','green','blue']\n",
    "rgb = '\\n'.join(colors)\n",
    "s = f\"The RGB colors are:\\n{rgb}\"\n",
    "print(s)"
   ]
  }
 ],
 "metadata": {
  "kernelspec": {
   "display_name": "Python 3",
   "language": "python",
   "name": "python3"
  },
  "language_info": {
   "codemirror_mode": {
    "name": "ipython",
    "version": 3
   },
   "file_extension": ".py",
   "mimetype": "text/x-python",
   "name": "python",
   "nbconvert_exporter": "python",
   "pygments_lexer": "ipython3",
   "version": "3.9.13"
  },
  "orig_nbformat": 4
 },
 "nbformat": 4,
 "nbformat_minor": 2
}
